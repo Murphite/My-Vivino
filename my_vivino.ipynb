{
 "cells": [
  {
   "cell_type": "markdown",
   "id": "d3707e5e",
   "metadata": {},
   "source": [
    "## Project Summary\n",
    "\n",
    "Name of project: **My Vivino** <br>\n",
    "Task: **Perfoming data analysis on different types wines collected from vivino.com** <br>\n",
    "**About the dataset:**\n",
    "\n",
    "The data was collected by scraping using the popular web automation library in python called Selenium. It was collected from vivino.com. The number of wine information collected is 1200 consisting of 6 different types of wines namely:\n",
    "**Red**, **Rose**, **Sparkly**, **Fortified**, **Dessert**, and **White**.\n",
    "The wines collected include ratings on a scale of 5\n",
    "The price for the wines collected is from 10 dollars up until 500 dollars\n",
    "The data collected will be cleaned, processed, and then used for analysis by answering the research questions below.\n",
    "\n",
    "**Research Questions:**\n",
    "1.\tHow does the average rating of each wine type compare to its price?\n",
    "2. Which wine type has the highest average rating?\n",
    "3. What is the distribution of prices for each wine type in the dataset?\n",
    "4. Which country produces the most wine in the dataset?\n",
    "5. Which country produces the best wine based on the ratings?\n",
    "6. Does the year of production affect the Price of the Wine?\n"
   ]
  },
  {
   "cell_type": "code",
   "execution_count": null,
   "id": "0912ed60",
   "metadata": {},
   "outputs": [],
   "source": []
  },
  {
   "cell_type": "markdown",
   "id": "e59a1c58",
   "metadata": {},
   "source": [
    "## Part 1"
   ]
  },
  {
   "cell_type": "markdown",
   "id": "81fd57f3",
   "metadata": {},
   "source": [
    "### Data Cleaning"
   ]
  },
  {
   "cell_type": "code",
   "execution_count": 1,
   "id": "9fa9fe1b",
   "metadata": {},
   "outputs": [
    {
     "name": "stdout",
     "output_type": "stream",
     "text": [
      "Collecting seaborn\n",
      "  Downloading seaborn-0.11.2-py3-none-any.whl (292 kB)\n",
      "     |████████████████████████████████| 292 kB 16.1 MB/s            \n",
      "\u001b[?25hRequirement already satisfied: scipy>=1.0 in /home/docode/.pyenv/versions/3.6.7/lib/python3.6/site-packages (from seaborn) (1.5.4)\n",
      "Requirement already satisfied: pandas>=0.23 in /home/docode/.pyenv/versions/3.6.7/lib/python3.6/site-packages (from seaborn) (1.1.5)\n",
      "Requirement already satisfied: matplotlib>=2.2 in /home/docode/.pyenv/versions/3.6.7/lib/python3.6/site-packages (from seaborn) (3.3.4)\n",
      "Requirement already satisfied: numpy>=1.15 in /home/docode/.pyenv/versions/3.6.7/lib/python3.6/site-packages (from seaborn) (1.19.5)\n",
      "Requirement already satisfied: cycler>=0.10 in /home/docode/.pyenv/versions/3.6.7/lib/python3.6/site-packages (from matplotlib>=2.2->seaborn) (0.11.0)\n",
      "Requirement already satisfied: kiwisolver>=1.0.1 in /home/docode/.pyenv/versions/3.6.7/lib/python3.6/site-packages (from matplotlib>=2.2->seaborn) (1.3.1)\n",
      "Requirement already satisfied: pyparsing!=2.0.4,!=2.1.2,!=2.1.6,>=2.0.3 in /home/docode/.pyenv/versions/3.6.7/lib/python3.6/site-packages (from matplotlib>=2.2->seaborn) (3.0.7)\n",
      "Requirement already satisfied: pillow>=6.2.0 in /home/docode/.pyenv/versions/3.6.7/lib/python3.6/site-packages (from matplotlib>=2.2->seaborn) (8.4.0)\n",
      "Requirement already satisfied: python-dateutil>=2.1 in /home/docode/.pyenv/versions/3.6.7/lib/python3.6/site-packages (from matplotlib>=2.2->seaborn) (2.8.2)\n",
      "Requirement already satisfied: pytz>=2017.2 in /home/docode/.pyenv/versions/3.6.7/lib/python3.6/site-packages (from pandas>=0.23->seaborn) (2022.5)\n",
      "Requirement already satisfied: six>=1.5 in /home/docode/.pyenv/versions/3.6.7/lib/python3.6/site-packages (from python-dateutil>=2.1->matplotlib>=2.2->seaborn) (1.16.0)\n",
      "Installing collected packages: seaborn\n",
      "Successfully installed seaborn-0.11.2\n"
     ]
    }
   ],
   "source": [
    "# installing seaborn\n",
    "!pip install seaborn\n",
    "# importing various libraries \n",
    "import pandas as pd\n",
    "import numpy as np\n",
    "import matplotlib.pyplot as plt\n",
    "import seaborn as sns\n",
    "import warnings\n",
    "warnings.filterwarnings('ignore')"
   ]
  },
  {
   "cell_type": "code",
   "execution_count": 2,
   "id": "48e8ce54",
   "metadata": {},
   "outputs": [],
   "source": [
    "## reading in the datasets and then mergin then into one to work with\n",
    "\n",
    "rose = pd.read_csv('vivino_dataset_rose.csv')\n",
    "red = pd.read_csv('vivino_dataset_red.csv')\n",
    "fortified = pd.read_csv('vivino_dataset_fortified.csv')\n",
    "white = pd.read_csv('vivino_dataset_white.csv')\n",
    "dessert = pd.read_csv('vivino_dataset_dessert.csv')\n",
    "sparkling = pd.read_csv('vivino_dataset_sparkling.csv')\n",
    "\n",
    "# create a column called type that will have the type of wine for each dataset before merging\n",
    "rose['Type'] = 'rose'\n",
    "red['Type'] = 'red'\n",
    "fortified['Type'] = 'fortified'\n",
    "white['Type'] = 'white'\n",
    "dessert['Type'] = 'dessert'\n",
    "sparkling['Type'] = 'Sparkling'\n",
    "\n",
    "## merging the data\n",
    "data = pd.concat([rose, red, fortified, white, dessert, sparkling], axis = 0)\n",
    "## reseting the index of the data \n",
    "data.reset_index(inplace = True, drop = True)"
   ]
  },
  {
   "cell_type": "code",
   "execution_count": 3,
   "id": "807e8ef3",
   "metadata": {},
   "outputs": [],
   "source": [
    "# setting the columns to lower case\n",
    "data.columns = data.columns.str.lower()"
   ]
  },
  {
   "cell_type": "code",
   "execution_count": 4,
   "id": "d7c5afaa",
   "metadata": {},
   "outputs": [
    {
     "data": {
      "text/plain": [
       "(1200, 7)"
      ]
     },
     "execution_count": 4,
     "metadata": {},
     "output_type": "execute_result"
    }
   ],
   "source": [
    "data.shape"
   ]
  },
  {
   "cell_type": "code",
   "execution_count": 5,
   "id": "70bf9b83",
   "metadata": {},
   "outputs": [
    {
     "data": {
      "text/html": [
       "<div>\n",
       "<style scoped>\n",
       "    .dataframe tbody tr th:only-of-type {\n",
       "        vertical-align: middle;\n",
       "    }\n",
       "\n",
       "    .dataframe tbody tr th {\n",
       "        vertical-align: top;\n",
       "    }\n",
       "\n",
       "    .dataframe thead th {\n",
       "        text-align: right;\n",
       "    }\n",
       "</style>\n",
       "<table border=\"1\" class=\"dataframe\">\n",
       "  <thead>\n",
       "    <tr style=\"text-align: right;\">\n",
       "      <th></th>\n",
       "      <th>brand</th>\n",
       "      <th>name</th>\n",
       "      <th>location</th>\n",
       "      <th>rating</th>\n",
       "      <th>number of ratings</th>\n",
       "      <th>price</th>\n",
       "      <th>type</th>\n",
       "    </tr>\n",
       "  </thead>\n",
       "  <tbody>\n",
       "    <tr>\n",
       "      <th>206</th>\n",
       "      <td>Isla Rae</td>\n",
       "      <td>Isla Rae\\nSui Generis Edition Cabernet Sauvign...</td>\n",
       "      <td>Napa Valley, United States</td>\n",
       "      <td>3.4</td>\n",
       "      <td>44 ratings</td>\n",
       "      <td>24.99</td>\n",
       "      <td>red</td>\n",
       "    </tr>\n",
       "    <tr>\n",
       "      <th>291</th>\n",
       "      <td>Château Haut Prieur</td>\n",
       "      <td>Château Haut Prieur\\nBlaye - Côtes de Bordeaux...</td>\n",
       "      <td>Blaye - Côtes de Bordeaux, France</td>\n",
       "      <td>4.2</td>\n",
       "      <td>246 ratings</td>\n",
       "      <td>15.99</td>\n",
       "      <td>red</td>\n",
       "    </tr>\n",
       "    <tr>\n",
       "      <th>199</th>\n",
       "      <td>Arnot-Roberts</td>\n",
       "      <td>Arnot-Roberts\\nRosé 2019</td>\n",
       "      <td>Clear Lake, United States</td>\n",
       "      <td>4.3</td>\n",
       "      <td>121 ratings</td>\n",
       "      <td>Available online from $32</td>\n",
       "      <td>rose</td>\n",
       "    </tr>\n",
       "    <tr>\n",
       "      <th>433</th>\n",
       "      <td>Niepoort</td>\n",
       "      <td>Niepoort\\nColheita Port 1997</td>\n",
       "      <td>Porto, Portugal</td>\n",
       "      <td>4.4</td>\n",
       "      <td>347 ratings</td>\n",
       "      <td>74.94</td>\n",
       "      <td>fortified</td>\n",
       "    </tr>\n",
       "    <tr>\n",
       "      <th>55</th>\n",
       "      <td>Domaine Lafage</td>\n",
       "      <td>Domaine Lafage\\nMiraflors Rosé 2021</td>\n",
       "      <td>Côtes du Roussillon, France</td>\n",
       "      <td>4.0</td>\n",
       "      <td>341 ratings</td>\n",
       "      <td>16.95</td>\n",
       "      <td>rose</td>\n",
       "    </tr>\n",
       "    <tr>\n",
       "      <th>1167</th>\n",
       "      <td>Laurent-Perrier</td>\n",
       "      <td>Laurent-Perrier\\nHarmony Demi-Sec Champagne N.V.</td>\n",
       "      <td>Champagne, France</td>\n",
       "      <td>4.1</td>\n",
       "      <td>1347 ratings</td>\n",
       "      <td>72.99</td>\n",
       "      <td>Sparkling</td>\n",
       "    </tr>\n",
       "    <tr>\n",
       "      <th>1140</th>\n",
       "      <td>Aubry</td>\n",
       "      <td>Aubry\\nIvoire &amp; Ébène Brut Champagne 1er Cru 2014</td>\n",
       "      <td>Champagne, France</td>\n",
       "      <td>4.2</td>\n",
       "      <td>27 ratings</td>\n",
       "      <td>56.99</td>\n",
       "      <td>Sparkling</td>\n",
       "    </tr>\n",
       "    <tr>\n",
       "      <th>901</th>\n",
       "      <td>Klein Constantia</td>\n",
       "      <td>Klein Constantia\\nVin de Constance (Natural Sw...</td>\n",
       "      <td>Constantia, South Africa</td>\n",
       "      <td>4.6</td>\n",
       "      <td>751 ratings</td>\n",
       "      <td>Available online from $181.98</td>\n",
       "      <td>dessert</td>\n",
       "    </tr>\n",
       "  </tbody>\n",
       "</table>\n",
       "</div>"
      ],
      "text/plain": [
       "                    brand                                               name  \\\n",
       "206              Isla Rae  Isla Rae\\nSui Generis Edition Cabernet Sauvign...   \n",
       "291   Château Haut Prieur  Château Haut Prieur\\nBlaye - Côtes de Bordeaux...   \n",
       "199         Arnot-Roberts                           Arnot-Roberts\\nRosé 2019   \n",
       "433              Niepoort                       Niepoort\\nColheita Port 1997   \n",
       "55         Domaine Lafage                Domaine Lafage\\nMiraflors Rosé 2021   \n",
       "1167      Laurent-Perrier   Laurent-Perrier\\nHarmony Demi-Sec Champagne N.V.   \n",
       "1140                Aubry  Aubry\\nIvoire & Ébène Brut Champagne 1er Cru 2014   \n",
       "901      Klein Constantia  Klein Constantia\\nVin de Constance (Natural Sw...   \n",
       "\n",
       "                               location  rating number of ratings  \\\n",
       "206          Napa Valley, United States     3.4        44 ratings   \n",
       "291   Blaye - Côtes de Bordeaux, France     4.2       246 ratings   \n",
       "199           Clear Lake, United States     4.3       121 ratings   \n",
       "433                     Porto, Portugal     4.4       347 ratings   \n",
       "55          Côtes du Roussillon, France     4.0       341 ratings   \n",
       "1167                  Champagne, France     4.1      1347 ratings   \n",
       "1140                  Champagne, France     4.2        27 ratings   \n",
       "901            Constantia, South Africa     4.6       751 ratings   \n",
       "\n",
       "                              price       type  \n",
       "206                           24.99        red  \n",
       "291                           15.99        red  \n",
       "199       Available online from $32       rose  \n",
       "433                           74.94  fortified  \n",
       "55                            16.95       rose  \n",
       "1167                          72.99  Sparkling  \n",
       "1140                          56.99  Sparkling  \n",
       "901   Available online from $181.98    dessert  "
      ]
     },
     "execution_count": 5,
     "metadata": {},
     "output_type": "execute_result"
    }
   ],
   "source": [
    "data.sample(8)"
   ]
  },
  {
   "cell_type": "code",
   "execution_count": 6,
   "id": "098cc972",
   "metadata": {},
   "outputs": [
    {
     "data": {
      "text/plain": [
       "953      203\n",
       "53       489\n",
       "1072     372\n",
       "848     1054\n",
       "1021     925\n",
       "Name: nbr_ratings, dtype: int64"
      ]
     },
     "execution_count": 6,
     "metadata": {},
     "output_type": "execute_result"
    }
   ],
   "source": [
    "## extracting rating and converting the datatype to integer\n",
    "data['nbr_ratings'] = data['number of ratings'].apply(lambda x: x.split(' ')[0]).astype('int')\n",
    "data.nbr_ratings.sample(5)"
   ]
  },
  {
   "cell_type": "code",
   "execution_count": 7,
   "id": "98123cb5",
   "metadata": {},
   "outputs": [
    {
     "data": {
      "text/plain": [
       "440      99.99\n",
       "1197     54.95\n",
       "766      48.10\n",
       "1077    269.99\n",
       "685      59.95\n",
       "Name: price, dtype: float64"
      ]
     },
     "execution_count": 7,
     "metadata": {},
     "output_type": "execute_result"
    }
   ],
   "source": [
    "## extracting the price and converting the datatype to int\n",
    "data['price'] = data['price'].apply(lambda x: str(x).split(' ')[-1].split('$')[-1]).astype('float64')\n",
    "data['price'].sample(5)"
   ]
  },
  {
   "cell_type": "code",
   "execution_count": 8,
   "id": "57f63ad3",
   "metadata": {},
   "outputs": [
    {
     "data": {
      "text/plain": [
       "65             France\n",
       "888            France\n",
       "24              Italy\n",
       "1183    United States\n",
       "242            France\n",
       "Name: country, dtype: object"
      ]
     },
     "execution_count": 8,
     "metadata": {},
     "output_type": "execute_result"
    }
   ],
   "source": [
    "## extracting the country of origin from the location\n",
    "data['country'] = data['location'].apply(lambda x: x.split(',')[-1].strip())\n",
    "data.country.sample(5)"
   ]
  },
  {
   "cell_type": "code",
   "execution_count": 9,
   "id": "25f14645",
   "metadata": {},
   "outputs": [
    {
     "data": {
      "text/plain": [
       "6           Bandol\n",
       "990    Napa Valley\n",
       "654        Mendoza\n",
       "662    Napa Valley\n",
       "688        Chablis\n",
       "Name: state, dtype: object"
      ]
     },
     "execution_count": 9,
     "metadata": {},
     "output_type": "execute_result"
    }
   ],
   "source": [
    "## extracting the state of origin from the location\n",
    "data['state'] = data['location'].apply(lambda x: x.split(',')[0].strip())\n",
    "data.state.sample(5)"
   ]
  },
  {
   "cell_type": "code",
   "execution_count": null,
   "id": "e8ad4e41",
   "metadata": {},
   "outputs": [],
   "source": []
  },
  {
   "cell_type": "code",
   "execution_count": 10,
   "id": "5cc7b83d",
   "metadata": {},
   "outputs": [],
   "source": [
    "## collecting the year of production from name column as the year is attached to the name of the wine\n",
    "data['year'] = data['name'].apply(lambda x: x.split(' ')[-1])\n",
    "\n"
   ]
  },
  {
   "cell_type": "code",
   "execution_count": 11,
   "id": "c930aec3",
   "metadata": {},
   "outputs": [],
   "source": [
    "def filter_year(value):\n",
    "    try:\n",
    "        value = int(value)\n",
    "    except:\n",
    "        value = np.nan\n",
    "    return value"
   ]
  },
  {
   "cell_type": "code",
   "execution_count": 12,
   "id": "b4381121",
   "metadata": {},
   "outputs": [],
   "source": [
    "## there are some wines that does not have year so I will be replacing it with nan values\n",
    "data['year'] = data['year'].apply(lambda x: filter_year(x))\n",
    "\n",
    "## dropping the nan values in the year \n",
    "data = data.dropna()\n",
    "data.year = data.year.astype('int')"
   ]
  },
  {
   "cell_type": "code",
   "execution_count": 13,
   "id": "df701565",
   "metadata": {},
   "outputs": [
    {
     "data": {
      "text/plain": [
       "Index(['brand', 'name', 'location', 'rating', 'number of ratings', 'price',\n",
       "       'type', 'nbr_ratings', 'country', 'state', 'year'],\n",
       "      dtype='object')"
      ]
     },
     "execution_count": 13,
     "metadata": {},
     "output_type": "execute_result"
    }
   ],
   "source": [
    "data.columns"
   ]
  },
  {
   "cell_type": "code",
   "execution_count": 14,
   "id": "3510bfd9",
   "metadata": {},
   "outputs": [],
   "source": [
    "## dropping the unwanted columns from the data\n",
    "data.drop(['number of ratings', 'location'], axis = 1, inplace = True)"
   ]
  },
  {
   "cell_type": "code",
   "execution_count": 15,
   "id": "3f266ba0",
   "metadata": {},
   "outputs": [
    {
     "data": {
      "text/plain": [
       "Index(['brand', 'name', 'rating', 'price', 'type', 'nbr_ratings', 'country',\n",
       "       'state', 'year'],\n",
       "      dtype='object')"
      ]
     },
     "execution_count": 15,
     "metadata": {},
     "output_type": "execute_result"
    }
   ],
   "source": [
    "data.columns"
   ]
  },
  {
   "cell_type": "markdown",
   "id": "24cb31b4",
   "metadata": {},
   "source": [
    "# Part 2\n",
    "\n",
    "## Data Exploration"
   ]
  },
  {
   "cell_type": "code",
   "execution_count": 16,
   "id": "e681c495",
   "metadata": {},
   "outputs": [
    {
     "name": "stdout",
     "output_type": "stream",
     "text": [
      "<class 'pandas.core.frame.DataFrame'>\n",
      "Int64Index: 979 entries, 0 to 1199\n",
      "Data columns (total 9 columns):\n",
      " #   Column       Non-Null Count  Dtype  \n",
      "---  ------       --------------  -----  \n",
      " 0   brand        979 non-null    object \n",
      " 1   name         979 non-null    object \n",
      " 2   rating       979 non-null    float64\n",
      " 3   price        979 non-null    float64\n",
      " 4   type         979 non-null    object \n",
      " 5   nbr_ratings  979 non-null    int64  \n",
      " 6   country      979 non-null    object \n",
      " 7   state        979 non-null    object \n",
      " 8   year         979 non-null    int64  \n",
      "dtypes: float64(2), int64(2), object(5)\n",
      "memory usage: 76.5+ KB\n"
     ]
    }
   ],
   "source": [
    "data.info()"
   ]
  },
  {
   "cell_type": "code",
   "execution_count": 17,
   "id": "00a9fd64",
   "metadata": {},
   "outputs": [
    {
     "data": {
      "text/html": [
       "<div>\n",
       "<style scoped>\n",
       "    .dataframe tbody tr th:only-of-type {\n",
       "        vertical-align: middle;\n",
       "    }\n",
       "\n",
       "    .dataframe tbody tr th {\n",
       "        vertical-align: top;\n",
       "    }\n",
       "\n",
       "    .dataframe thead th {\n",
       "        text-align: right;\n",
       "    }\n",
       "</style>\n",
       "<table border=\"1\" class=\"dataframe\">\n",
       "  <thead>\n",
       "    <tr style=\"text-align: right;\">\n",
       "      <th></th>\n",
       "      <th>rating</th>\n",
       "      <th>price</th>\n",
       "      <th>nbr_ratings</th>\n",
       "      <th>year</th>\n",
       "    </tr>\n",
       "  </thead>\n",
       "  <tbody>\n",
       "    <tr>\n",
       "      <th>count</th>\n",
       "      <td>979.000000</td>\n",
       "      <td>979.000000</td>\n",
       "      <td>979.000000</td>\n",
       "      <td>979.000000</td>\n",
       "    </tr>\n",
       "    <tr>\n",
       "      <th>mean</th>\n",
       "      <td>4.264556</td>\n",
       "      <td>88.053810</td>\n",
       "      <td>339.711951</td>\n",
       "      <td>2013.968335</td>\n",
       "    </tr>\n",
       "    <tr>\n",
       "      <th>std</th>\n",
       "      <td>0.258753</td>\n",
       "      <td>98.077014</td>\n",
       "      <td>660.429414</td>\n",
       "      <td>9.946175</td>\n",
       "    </tr>\n",
       "    <tr>\n",
       "      <th>min</th>\n",
       "      <td>3.200000</td>\n",
       "      <td>10.650000</td>\n",
       "      <td>25.000000</td>\n",
       "      <td>1933.000000</td>\n",
       "    </tr>\n",
       "    <tr>\n",
       "      <th>25%</th>\n",
       "      <td>4.100000</td>\n",
       "      <td>24.990000</td>\n",
       "      <td>54.000000</td>\n",
       "      <td>2013.000000</td>\n",
       "    </tr>\n",
       "    <tr>\n",
       "      <th>50%</th>\n",
       "      <td>4.300000</td>\n",
       "      <td>50.000000</td>\n",
       "      <td>124.000000</td>\n",
       "      <td>2018.000000</td>\n",
       "    </tr>\n",
       "    <tr>\n",
       "      <th>75%</th>\n",
       "      <td>4.400000</td>\n",
       "      <td>99.990000</td>\n",
       "      <td>328.000000</td>\n",
       "      <td>2020.000000</td>\n",
       "    </tr>\n",
       "    <tr>\n",
       "      <th>max</th>\n",
       "      <td>4.900000</td>\n",
       "      <td>500.000000</td>\n",
       "      <td>10344.000000</td>\n",
       "      <td>2022.000000</td>\n",
       "    </tr>\n",
       "  </tbody>\n",
       "</table>\n",
       "</div>"
      ],
      "text/plain": [
       "           rating       price   nbr_ratings         year\n",
       "count  979.000000  979.000000    979.000000   979.000000\n",
       "mean     4.264556   88.053810    339.711951  2013.968335\n",
       "std      0.258753   98.077014    660.429414     9.946175\n",
       "min      3.200000   10.650000     25.000000  1933.000000\n",
       "25%      4.100000   24.990000     54.000000  2013.000000\n",
       "50%      4.300000   50.000000    124.000000  2018.000000\n",
       "75%      4.400000   99.990000    328.000000  2020.000000\n",
       "max      4.900000  500.000000  10344.000000  2022.000000"
      ]
     },
     "execution_count": 17,
     "metadata": {},
     "output_type": "execute_result"
    }
   ],
   "source": [
    "## checking the statistics \n",
    "data.describe()"
   ]
  },
  {
   "cell_type": "code",
   "execution_count": 18,
   "id": "7dfd3003",
   "metadata": {},
   "outputs": [
    {
     "data": {
      "text/plain": [
       "brand          0\n",
       "name           0\n",
       "rating         0\n",
       "price          0\n",
       "type           0\n",
       "nbr_ratings    0\n",
       "country        0\n",
       "state          0\n",
       "year           0\n",
       "dtype: int64"
      ]
     },
     "execution_count": 18,
     "metadata": {},
     "output_type": "execute_result"
    }
   ],
   "source": [
    "# checking for null values \n",
    "data.isnull().sum()"
   ]
  },
  {
   "cell_type": "code",
   "execution_count": null,
   "id": "be71eef5",
   "metadata": {},
   "outputs": [],
   "source": []
  },
  {
   "cell_type": "markdown",
   "id": "8ee59587",
   "metadata": {},
   "source": [
    "# Part 3"
   ]
  },
  {
   "cell_type": "markdown",
   "id": "b4ce22f5",
   "metadata": {},
   "source": [
    "## Since the data is clean, we can use the existing data to answer some important questions"
   ]
  },
  {
   "cell_type": "code",
   "execution_count": null,
   "id": "d478b8f3",
   "metadata": {},
   "outputs": [],
   "source": []
  },
  {
   "cell_type": "markdown",
   "id": "2a7712cb",
   "metadata": {},
   "source": [
    "### Question\n",
    "#### How does the average rating of each wine type compare to its price?"
   ]
  },
  {
   "cell_type": "code",
   "execution_count": 19,
   "id": "91afc6a0",
   "metadata": {},
   "outputs": [
    {
     "data": {
      "image/png": "[encoded data removed]",
      "text/plain": [
       "<Figure size 1152x720 with 1 Axes>"
      ]
     },
     "metadata": {
      "needs_background": "light"
     },
     "output_type": "display_data"
    }
   ],
   "source": [
    "plt.figure(figsize = (16, 10))\n",
    "sns.histplot(data = data, x = 'rating', y = 'price')\n",
    "plt.xlabel('Wine Rating')\n",
    "plt.ylabel('Price (USD)')\n",
    "plt.title('Relationship between Rating and Price')\n",
    "plt.show()"
   ]
  },
  {
   "cell_type": "markdown",
   "id": "98ae7b40",
   "metadata": {},
   "source": [
    "#### Analysis\n",
    "\n",
    "<p> From the plot above, we can see that the higher the rating, the higher the price of a wine. This also means that the price of a bottle of wine is correlated to the rating  \n",
    "</p>"
   ]
  },
  {
   "cell_type": "markdown",
   "id": "7b7dc69d",
   "metadata": {},
   "source": [
    "#### Which wine type has the highest average rating?"
   ]
  },
  {
   "cell_type": "code",
   "execution_count": 20,
   "id": "e16ff4d1",
   "metadata": {},
   "outputs": [
    {
     "data": {
      "image/png": "[encoded data removed]",
      "text/plain": [
       "<Figure size 1152x720 with 1 Axes>"
      ]
     },
     "metadata": {
      "needs_background": "light"
     },
     "output_type": "display_data"
    }
   ],
   "source": [
    "plt.figure(figsize = (16, 10))\n",
    "plots = sns.barplot(data = data, x = 'type', y = 'rating')\n",
    "for plot in plots.patches:\n",
    "    plots.annotate(format(plot.get_height(), '.1f'), \n",
    "                   (plot.get_x() + plot.get_width() / 2., plot.get_height()), \n",
    "                   ha = 'center', va = 'center', \n",
    "                   xytext = (0, 9), \n",
    "                   textcoords = 'offset points')\n",
    "plt.xlabel('Wine Type')\n",
    "plt.ylabel('Average Rating')\n",
    "plt.title('Average Rating by Wine Type')\n",
    "plt.show()"
   ]
  },
  {
   "cell_type": "markdown",
   "id": "9fb20f7d",
   "metadata": {},
   "source": [
    "#### Analysis\n",
    "<p> The Dessert Type has the highest average wine rating of 4.5 with Rose having the least with 4.0</p>"
   ]
  },
  {
   "cell_type": "code",
   "execution_count": null,
   "id": "b52fc692",
   "metadata": {},
   "outputs": [],
   "source": []
  },
  {
   "cell_type": "markdown",
   "id": "02c3cac6",
   "metadata": {},
   "source": [
    "#### What is the distribution of prices for each wine type in the dataset?"
   ]
  },
  {
   "cell_type": "code",
   "execution_count": 21,
   "id": "09d71c0b",
   "metadata": {},
   "outputs": [
    {
     "data": {
      "image/png": "[encoded data removed]",
      "text/plain": [
       "<Figure size 1152x720 with 1 Axes>"
      ]
     },
     "metadata": {
      "needs_background": "light"
     },
     "output_type": "display_data"
    }
   ],
   "source": [
    "plt.figure(figsize = (16, 10))\n",
    "plots = sns.barplot(data = data, x = 'type', y = 'price')\n",
    "for plot in plots.patches:\n",
    "    plots.annotate(format(plot.get_height(), '.1f'), \n",
    "                   (plot.get_x() + plot.get_width() / 2., plot.get_height()), \n",
    "                   ha = 'center', va = 'center', \n",
    "                   xytext = (0, -75), \n",
    "                   textcoords = 'offset points')\n",
    "plt.xlabel('Wine Type')\n",
    "plt.ylabel('Average Price(USD)')\n",
    "plt.title('Distribution of Price by Wine Type')\n",
    "plt.show()"
   ]
  },
  {
   "cell_type": "markdown",
   "id": "ae580519",
   "metadata": {},
   "source": [
    "#### Analysis\n",
    "<p> From the above plot, we can see that the most expensive type of wine is the Dessert which is also the type of wine with the highest rating. This can also mean that there is a positive correlation between the rating and price of a wine type</p>"
   ]
  },
  {
   "cell_type": "code",
   "execution_count": null,
   "id": "ebc83df9",
   "metadata": {},
   "outputs": [],
   "source": []
  },
  {
   "cell_type": "markdown",
   "id": "13fae426",
   "metadata": {},
   "source": [
    "#### Which country produces the most wine in the dataset?"
   ]
  },
  {
   "cell_type": "code",
   "execution_count": 22,
   "id": "22cf788c",
   "metadata": {},
   "outputs": [
    {
     "data": {
      "image/png": "[encoded data removed]",
      "text/plain": [
       "<Figure size 1152x720 with 1 Axes>"
      ]
     },
     "metadata": {
      "needs_background": "light"
     },
     "output_type": "display_data"
    }
   ],
   "source": [
    "plt.figure(figsize = (16, 10))\n",
    "plots = sns.countplot(data = data, x = 'country')\n",
    "for plot in plots.patches:\n",
    "    plots.annotate(format(plot.get_height()), \n",
    "                   (plot.get_x() + plot.get_width() / 2., plot.get_height()), \n",
    "                   ha = 'center', va = 'center', \n",
    "                   xytext = (0, 9), \n",
    "                   textcoords = 'offset points')\n",
    "plt.xlabel('Country')\n",
    "plt.ylabel('Count')\n",
    "plt.title('Country that produces most wine')\n",
    "plt.xticks(rotation = 90)\n",
    "plt.show()"
   ]
  },
  {
   "cell_type": "markdown",
   "id": "5d2152d4",
   "metadata": {},
   "source": [
    "#### Analysis\n",
    "<p> The country that produces most wines in the dataset is France with over 40% of the total wine coming from France </p>"
   ]
  },
  {
   "cell_type": "code",
   "execution_count": null,
   "id": "e2baf99a",
   "metadata": {},
   "outputs": [],
   "source": []
  },
  {
   "cell_type": "code",
   "execution_count": null,
   "id": "9c7d4715",
   "metadata": {},
   "outputs": [],
   "source": []
  },
  {
   "cell_type": "markdown",
   "id": "02d65b72",
   "metadata": {},
   "source": [
    "#### Which country produces the best wine based on the ratings?"
   ]
  },
  {
   "cell_type": "code",
   "execution_count": 23,
   "id": "b068d127",
   "metadata": {},
   "outputs": [
    {
     "data": {
      "image/png": "[encoded data removed]",
      "text/plain": [
       "<Figure size 1152x720 with 1 Axes>"
      ]
     },
     "metadata": {
      "needs_background": "light"
     },
     "output_type": "display_data"
    }
   ],
   "source": [
    "plt.figure(figsize = (16, 10))\n",
    "sns.boxplot(data = data, x = 'country', y = 'rating')\n",
    "plt.xlabel('Country')\n",
    "plt.ylabel('Average Rating')\n",
    "plt.title('Country that produces best wines based on Ratings')\n",
    "plt.xticks(rotation = 90)\n",
    "plt.show()"
   ]
  },
  {
   "cell_type": "markdown",
   "id": "6325ad1c",
   "metadata": {},
   "source": [
    "#### Analysis \n",
    "From the above plot we can see that France has a wider range of wines based on ratings, but the Italians average rating is slightly higher than the French wine but also has a short range of wines.\n",
    "\n",
    "I would not be considering countries like Cyprus because it does not have enough wine record in this dataset to determine it's avarage rating"
   ]
  },
  {
   "cell_type": "code",
   "execution_count": null,
   "id": "7a459d45",
   "metadata": {},
   "outputs": [],
   "source": []
  },
  {
   "cell_type": "markdown",
   "id": "0608a528",
   "metadata": {},
   "source": [
    "#### Does the year of production affect the Price of the Wine?"
   ]
  },
  {
   "cell_type": "code",
   "execution_count": 24,
   "id": "03091558",
   "metadata": {},
   "outputs": [
    {
     "data": {
      "image/png": "[encoded data removed]",
      "text/plain": [
       "<Figure size 1152x720 with 1 Axes>"
      ]
     },
     "metadata": {
      "needs_background": "light"
     },
     "output_type": "display_data"
    }
   ],
   "source": [
    "yrs = data.loc[data['year'] >= 2010]\n",
    "\n",
    "plt.figure(figsize = (16, 10))\n",
    "sns.lineplot(data = yrs, x = 'year', y = 'price')\n",
    "plt.xlabel('Country')\n",
    "plt.ylabel('Average Rating')\n",
    "plt.title('Country that produces best wines based on Ratings')\n",
    "plt.xticks(rotation = 90)\n",
    "plt.show()"
   ]
  },
  {
   "cell_type": "markdown",
   "id": "0406315c",
   "metadata": {},
   "source": [
    "#### Analysis\n",
    "To answer this question, I filtered out the wines that were produced in the last 10 years.\n",
    "From the above plot, you can see that, the older the wine, the more expensive it is and the price of wine continues to fall until it reaches the current year.\n",
    "I believe this is because, old wines are harder to find and very few. So this affects the price of the wine."
   ]
  },
  {
   "cell_type": "code",
   "execution_count": null,
   "id": "0085fef6",
   "metadata": {},
   "outputs": [],
   "source": []
  }
 ],
 "metadata": {
  "kernelspec": {
   "display_name": "Python 3",
   "language": "python",
   "name": "python3"
  },
  "language_info": {
   "codemirror_mode": {
    "name": "ipython",
    "version": 3
   },
   "file_extension": ".py",
   "mimetype": "text/x-python",
   "name": "python",
   "nbconvert_exporter": "python",
   "pygments_lexer": "ipython3",
   "version": "3.6.7"
  }
 },
 "nbformat": 4,
 "nbformat_minor": 5
}
